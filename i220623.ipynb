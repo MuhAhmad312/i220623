{
  "cells": [
    {
      "cell_type": "markdown",
      "metadata": {
        "id": "yZUfT3i7CjcU"
      },
      "source": [
        "# Lab Task 01"
      ]
    },
    {
      "cell_type": "markdown",
      "metadata": {
        "id": "cFvXKV7FCd5E"
      },
      "source": [
        "Write a function to return True if the first and last number of a given list is same. If numbers are different then return False."
      ]
    },
    {
      "cell_type": "code",
      "execution_count": 10,
      "metadata": {},
      "outputs": [
        {
          "name": "stdout",
          "output_type": "stream",
          "text": [
            "True\n",
            "False\n"
          ]
        }
      ],
      "source": [
        "def same(x):\n",
        "    if (x[0] == x[-1]):\n",
        "        return True\n",
        "    else:\n",
        "        return False\n",
        "\n",
        "# Given:\n",
        "numbers_x = [10, 20, 30, 40, 10]\n",
        "numbers_y = [75, 65, 35, 75, 30]\n",
        "\n",
        "print(same(numbers_x))\n",
        "print(same(numbers_y))\n",
        "# Expected Output:\n",
        "# Given list: [10, 20, 30, 40, 10]\n",
        "# result is True\n",
        "\n",
        "# numbers_y = [75, 65, 35, 75, 30]\n",
        "# result is False"
      ]
    },
    {
      "cell_type": "markdown",
      "metadata": {
        "id": "UwFZ7OjICrlQ"
      },
      "source": [
        "\n",
        "\n",
        "\n",
        "\n",
        "# Lab Task 02"
      ]
    },
    {
      "cell_type": "markdown",
      "metadata": {
        "id": "GWQ2AhPcCufC"
      },
      "source": [
        "Create two NumPy arrays of the same shape and perform element-wise addition on them.\n",
        "\n",
        "Calculate the element-wise product of two NumPy arrays."
      ]
    },
    {
      "cell_type": "code",
      "execution_count": 13,
      "metadata": {
        "id": "jZNfvManCxjQ"
      },
      "outputs": [
        {
          "name": "stdout",
          "output_type": "stream",
          "text": [
            "[0 1 2 3 4]\n",
            "[0 1 2 3 4]\n",
            "[0 2 4 6 8]\n",
            "[ 0  1  4  9 16]\n"
          ]
        }
      ],
      "source": [
        "#code here\n",
        "import numpy as np \n",
        "l1 = np.arange(5)\n",
        "print(l1)\n",
        "l2 = np.arange(5)\n",
        "print(l2)\n",
        "\n",
        "add = l1 + l2\n",
        "print(add)\n",
        "\n",
        "prod = l1 * l2\n",
        "print(prod)\n"
      ]
    },
    {
      "cell_type": "markdown",
      "metadata": {
        "id": "DR3RvooloecS"
      },
      "source": [
        "# Lab Task 03"
      ]
    },
    {
      "cell_type": "markdown",
      "metadata": {
        "id": "Oi-yFvItoWzc"
      },
      "source": [
        "Reshape a 1D NumPy array into a 2D array with dimensions (3, 4).\n",
        "\n",
        "Concatenate two NumPy arrays horizontally and vertically."
      ]
    },
    {
      "cell_type": "code",
      "execution_count": 19,
      "metadata": {
        "id": "c379PMYOobDK"
      },
      "outputs": [
        {
          "name": "stdout",
          "output_type": "stream",
          "text": [
            "[[ 0  1  2  3]\n",
            " [ 4  5  6  7]\n",
            " [ 8  9 10 11]]\n",
            "[1 2 3 4 5 6 7 8]\n",
            "[[1 2 3 4]\n",
            " [5 6 7 8]]\n"
          ]
        }
      ],
      "source": [
        "#code here\n",
        "l3 = np.arange(12).reshape(3,4)\n",
        "print(l3)\n",
        "\n",
        "l4 = np.array([1,2,3,4])\n",
        "l5 = np.array([5,6,7,8])\n",
        "\n",
        "hor = np.hstack((l4, l5))\n",
        "print(hor)\n",
        "\n",
        "ver = np.vstack((l4,l5))\n",
        "print(ver)\n",
        "\n",
        "\n"
      ]
    },
    {
      "cell_type": "markdown",
      "metadata": {
        "id": "QyAHL3cppQvA"
      },
      "source": [
        "# Lab Task 04\n",
        "\n"
      ]
    },
    {
      "cell_type": "markdown",
      "metadata": {
        "id": "n9ljQa5NopJD"
      },
      "source": [
        "\n",
        "## Online Store Shopping Cart\n",
        "Write a Python program to simulate the online store's shopping cart system. The program should use a while loop to provide an interactive shopping experience.\n",
        "\n",
        "\n",
        "### Tasks:\n",
        "* Initialize an empty list called shopping_cart to store items.\n",
        "* Display a welcome message and available products.\n",
        "* Loop should be iterating over AI Response Simulator and Investment decision and keep asking for user input.\n",
        "* Prompt the user to enter the number corresponding to the product they want to add to the cart.\n",
        "* Check if the user entered 'q'. If so, break the loop.\n",
        "* Convert the choice to an integer and validate it within the valid range (1 to 3).\n",
        "* Based on the user's choice, add the selected product to the shopping_cart list.\n",
        "* Display a confirmation message indicating the added product.\n",
        "* Continue the loop to allow the user to add more products or proceed to checkout.\n",
        "* After the loop ends, display the contents of the shopping cart.\n",
        "* Display a goodbye message.\n",
        "* End the program.\n"
      ]
    },
    {
      "cell_type": "code",
      "execution_count": 1,
      "metadata": {
        "id": "9huwf9wVpWFf"
      },
      "outputs": [
        {
          "name": "stdout",
          "output_type": "stream",
          "text": [
            "Welcome\n",
            "Available products:\n",
            "1. AI Response Simulator\n",
            "2. Investment Decision\n",
            "You have addedAI Response Simulator to your cart\n",
            "You have addedInvestment Decision to your cart\n",
            "Invalid input\n",
            "You shopping cart contains:\n",
            "AI Response Simulator\n",
            "Investment Decision\n",
            "Thank you. Byeeeeeee 👋\n"
          ]
        }
      ],
      "source": [
        "#Code here\n",
        "products = ['AI Response Simulator', 'Investment Decision']\n",
        "shopping_cart = []\n",
        "print(\"Welcome\")\n",
        "print(\"Available products:\")\n",
        "for i in range(len(products)):\n",
        "    print(f\"{i+1}. {products[i]}\")\n",
        "\n",
        "while True:\n",
        "    choice = input(\"\\n Enter the number of products you want to add to the card (or 'q'to quit):\")\n",
        "    if choice.lower() == 'q':\n",
        "        break\n",
        "\n",
        "    try:\n",
        "        choice = int(choice)\n",
        "        if 1<= choice <= len(products):\n",
        "            shopping_cart.append(products[choice-1])\n",
        "            print(f\"You have added {products[choice-1]} to your cart\")\n",
        "        else:\n",
        "            print(\"Invalid input\")\n",
        "    except ValueError:\n",
        "        print(\"Invalid input. Enter a number\")\n",
        "\n",
        "\n",
        "print(\"You shopping cart contains:\")\n",
        "for i in shopping_cart:\n",
        "    print(i)\n",
        "\n",
        "print(\"Thank you. Byeeeeeee 👋\")\n",
        "\n",
        "\n",
        "    "
      ]
    },
    {
      "cell_type": "markdown",
      "metadata": {
        "id": "Dv9DtQ3jp6mq"
      },
      "source": [
        "# Lab Task 05"
      ]
    },
    {
      "cell_type": "markdown",
      "metadata": {
        "id": "2i6-zm_1ZAdn"
      },
      "source": [
        "\n",
        "## Email Classification\n",
        "Develope a tool which will classify an email.\n",
        "\n",
        "### Tasks:\n",
        "* Create a function classify_emails that takes a list of emails as an argument.\n",
        "* Inside the function, categorize emails into \"Important,\" \"Promotions,\" and \"Spam\" based on keywords and content analysis.\n",
        "* Loop through the emails and identify keywords to determine their category.\n",
        "* If an email contains keywords indicating importance, assign it as \"Important.\"\n",
        "* If an email contains keywords related to promotions or deals, assign it as \"Promotions.\"\n",
        "* If an email is suspected to be spam based on certain keywords or patterns, assign it as \"Spam.\"\n",
        "* Return three lists of emails for each category.\n",
        "* Print the lists."
      ]
    },
    {
      "cell_type": "code",
      "execution_count": 4,
      "metadata": {
        "id": "SnCGPkq-o84Z"
      },
      "outputs": [],
      "source": [
        "#code here\n",
        "def classify(emails):\n",
        "    important = ['urgent', 'important', 'immediate']\n",
        "    promo = ['sale', 'deal', 'offer']\n",
        "    spam = ['win', 'prize']\n",
        "\n",
        "    imp_mail = []\n",
        "    promo_mail = []\n",
        "    spam_mail = [] \n",
        "\n",
        "    for email in emails:\n",
        "        email = email.lower()\n",
        "        if any(keyword in email for keyword in important):\n",
        "            imp_mail.append(email)\n",
        "\n",
        "        elif any(keyword in email for keyword in promo):\n",
        "            promo_mail.append(email)\n",
        "        \n",
        "        elif any(keyword in email for keyword in spam):\n",
        "            spam_mail.append(email)\n",
        "\n",
        "    return imp_mail, promo_mail, spam_mail\n"
      ]
    },
    {
      "cell_type": "code",
      "execution_count": 5,
      "metadata": {},
      "outputs": [
        {
          "name": "stdout",
          "output_type": "stream",
          "text": [
            "Important emails: ['urgent meeting tomorrow']\n",
            "Promotions emails: ['big sale on all items']\n",
            "Spam emails: ['you won a prize!']\n"
          ]
        }
      ],
      "source": [
        "\n",
        "emails = ['Urgent meeting tomorrow', 'Big sale on all items', 'You won a prize!']\n",
        "important_emails, promotions_emails, spam_emails = classify(emails)\n",
        "\n",
        "print(\"Important emails:\", important_emails)\n",
        "print(\"Promotions emails:\", promotions_emails)\n",
        "print(\"Spam emails:\", spam_emails)\n"
      ]
    },
    {
      "cell_type": "markdown",
      "metadata": {
        "id": "amtV-GLWpCC7"
      },
      "source": [
        "# Lab Task 06"
      ]
    },
    {
      "cell_type": "markdown",
      "metadata": {
        "id": "M2Zg-XsUpC72"
      },
      "source": [
        "## English-Spanish Dictionary\n",
        "You are creating a basic English-Spanish dictionary that allows users to look up English words and find their Spanish translations.\n",
        "\n",
        "\n",
        "### Tasks\n",
        "* Create a dictionary where English words are keys and their Spanish translations are values.\n",
        "* Ask the user to input an English word.\n",
        "* Check if the word exists in the dictionary.\n",
        "* If the word exists, print its Spanish translation.\n",
        "* If the word does not exist, inform the user that the translation is not available.\n",
        "* Implement a loop that allows the user to keep looking up words until they choose to exit.\n"
      ]
    },
    {
      "cell_type": "code",
      "execution_count": 6,
      "metadata": {
        "id": "7RKtYbMZpJdh"
      },
      "outputs": [
        {
          "name": "stdout",
          "output_type": "stream",
          "text": [
            "The spanish for hello is hola.\n",
            "The spanish for goodbye is adios.\n",
            "unavailable\n"
          ]
        }
      ],
      "source": [
        "# #code here\n",
        "dict = {\n",
        "    'hello' : 'hola',\n",
        "    'goodbye' : 'adios',\n",
        "    'please': 'por favor',\n",
        "    'thank you' : 'gracias'\n",
        "\n",
        "}\n",
        "\n",
        "while True:\n",
        "    word = input(\"Please enter an english word (or 'x' to exit):\")\n",
        "    if word.lower() == 'x':\n",
        "        break\n",
        "    \n",
        "    trans = dict.get(word)\n",
        "    if trans:\n",
        "        print(f\"The spanish for {word} is {trans}.\")\n",
        "    else:\n",
        "        print(\"unavailable\")\n"
      ]
    },
    {
      "cell_type": "markdown",
      "metadata": {
        "id": "h_8wOMWitspv"
      },
      "source": [
        "# Lab Task 07"
      ]
    },
    {
      "cell_type": "markdown",
      "metadata": {
        "id": "Qq4VH1Jkts32"
      },
      "source": [
        "dataset link : https://raw.githubusercontent.com/TirendazAcademy/PANDAS-TUTORIAL/main/DataSets/vgsalesGlobale.csv\n",
        "#Exercise\n",
        "Use the dataset of Game, we have explored earlier and perform following operations.\n",
        "\n",
        "* Calculate the total global sales for all games in the dataset.\n",
        "* Find the game with the highest global sales.\n",
        "* Determine the average sales for each region (NA_Sales, EU_Sales, JP_Sales, Other_Sales).\n",
        "* Find the top 5 most popular game genres based on global sales.\n",
        "* Calculate the total sales for each genre in each region and find the most popular genre in North America (NA_Sales).\n",
        "* Display last 10 rows.\n",
        "* Determine the top 3 gaming platforms with the highest global sales.\n",
        "* Calculate the market share (percentage of global sales) for each genre.\n",
        "* Calculate the correlation coefficient between NA_Sales and EU_Sales. (.corr function)"
      ]
    },
    {
      "cell_type": "code",
      "execution_count": 3,
      "metadata": {},
      "outputs": [
        {
          "data": {
            "text/html": [
              "<div>\n",
              "<style scoped>\n",
              "    .dataframe tbody tr th:only-of-type {\n",
              "        vertical-align: middle;\n",
              "    }\n",
              "\n",
              "    .dataframe tbody tr th {\n",
              "        vertical-align: top;\n",
              "    }\n",
              "\n",
              "    .dataframe thead th {\n",
              "        text-align: right;\n",
              "    }\n",
              "</style>\n",
              "<table border=\"1\" class=\"dataframe\">\n",
              "  <thead>\n",
              "    <tr style=\"text-align: right;\">\n",
              "      <th></th>\n",
              "      <th>Name</th>\n",
              "      <th>Platform</th>\n",
              "      <th>Year</th>\n",
              "      <th>Genre</th>\n",
              "      <th>Publisher</th>\n",
              "      <th>NA_Sales</th>\n",
              "      <th>EU_Sales</th>\n",
              "      <th>JP_Sales</th>\n",
              "      <th>Other_Sales</th>\n",
              "      <th>Global_Sales</th>\n",
              "    </tr>\n",
              "    <tr>\n",
              "      <th>Rank</th>\n",
              "      <th></th>\n",
              "      <th></th>\n",
              "      <th></th>\n",
              "      <th></th>\n",
              "      <th></th>\n",
              "      <th></th>\n",
              "      <th></th>\n",
              "      <th></th>\n",
              "      <th></th>\n",
              "      <th></th>\n",
              "    </tr>\n",
              "  </thead>\n",
              "  <tbody>\n",
              "    <tr>\n",
              "      <th>1</th>\n",
              "      <td>Wii Sports</td>\n",
              "      <td>Wii</td>\n",
              "      <td>2006.0</td>\n",
              "      <td>Sports</td>\n",
              "      <td>Nintendo</td>\n",
              "      <td>41.49</td>\n",
              "      <td>29.02</td>\n",
              "      <td>3.77</td>\n",
              "      <td>8.46</td>\n",
              "      <td>82.74</td>\n",
              "    </tr>\n",
              "    <tr>\n",
              "      <th>2</th>\n",
              "      <td>Super Mario Bros.</td>\n",
              "      <td>NES</td>\n",
              "      <td>1985.0</td>\n",
              "      <td>Platform</td>\n",
              "      <td>Nintendo</td>\n",
              "      <td>29.08</td>\n",
              "      <td>3.58</td>\n",
              "      <td>6.81</td>\n",
              "      <td>0.77</td>\n",
              "      <td>40.24</td>\n",
              "    </tr>\n",
              "    <tr>\n",
              "      <th>3</th>\n",
              "      <td>Mario Kart Wii</td>\n",
              "      <td>Wii</td>\n",
              "      <td>2008.0</td>\n",
              "      <td>Racing</td>\n",
              "      <td>Nintendo</td>\n",
              "      <td>15.85</td>\n",
              "      <td>12.88</td>\n",
              "      <td>3.79</td>\n",
              "      <td>3.31</td>\n",
              "      <td>35.82</td>\n",
              "    </tr>\n",
              "    <tr>\n",
              "      <th>4</th>\n",
              "      <td>Wii Sports Resort</td>\n",
              "      <td>Wii</td>\n",
              "      <td>2009.0</td>\n",
              "      <td>Sports</td>\n",
              "      <td>Nintendo</td>\n",
              "      <td>15.75</td>\n",
              "      <td>11.01</td>\n",
              "      <td>3.28</td>\n",
              "      <td>2.96</td>\n",
              "      <td>33.00</td>\n",
              "    </tr>\n",
              "    <tr>\n",
              "      <th>5</th>\n",
              "      <td>Pokemon Red/Pokemon Blue</td>\n",
              "      <td>GB</td>\n",
              "      <td>1996.0</td>\n",
              "      <td>Role-Playing</td>\n",
              "      <td>Nintendo</td>\n",
              "      <td>11.27</td>\n",
              "      <td>8.89</td>\n",
              "      <td>10.22</td>\n",
              "      <td>1.00</td>\n",
              "      <td>31.37</td>\n",
              "    </tr>\n",
              "    <tr>\n",
              "      <th>...</th>\n",
              "      <td>...</td>\n",
              "      <td>...</td>\n",
              "      <td>...</td>\n",
              "      <td>...</td>\n",
              "      <td>...</td>\n",
              "      <td>...</td>\n",
              "      <td>...</td>\n",
              "      <td>...</td>\n",
              "      <td>...</td>\n",
              "      <td>...</td>\n",
              "    </tr>\n",
              "    <tr>\n",
              "      <th>16596</th>\n",
              "      <td>Woody Woodpecker in Crazy Castle 5</td>\n",
              "      <td>GBA</td>\n",
              "      <td>2002.0</td>\n",
              "      <td>Platform</td>\n",
              "      <td>Kemco</td>\n",
              "      <td>0.01</td>\n",
              "      <td>0.00</td>\n",
              "      <td>0.00</td>\n",
              "      <td>0.00</td>\n",
              "      <td>0.01</td>\n",
              "    </tr>\n",
              "    <tr>\n",
              "      <th>16597</th>\n",
              "      <td>Men in Black II: Alien Escape</td>\n",
              "      <td>GC</td>\n",
              "      <td>2003.0</td>\n",
              "      <td>Shooter</td>\n",
              "      <td>Infogrames</td>\n",
              "      <td>0.01</td>\n",
              "      <td>0.00</td>\n",
              "      <td>0.00</td>\n",
              "      <td>0.00</td>\n",
              "      <td>0.01</td>\n",
              "    </tr>\n",
              "    <tr>\n",
              "      <th>16598</th>\n",
              "      <td>SCORE International Baja 1000: The Official Game</td>\n",
              "      <td>PS2</td>\n",
              "      <td>2008.0</td>\n",
              "      <td>Racing</td>\n",
              "      <td>Activision</td>\n",
              "      <td>0.00</td>\n",
              "      <td>0.00</td>\n",
              "      <td>0.00</td>\n",
              "      <td>0.00</td>\n",
              "      <td>0.01</td>\n",
              "    </tr>\n",
              "    <tr>\n",
              "      <th>16599</th>\n",
              "      <td>Know How 2</td>\n",
              "      <td>DS</td>\n",
              "      <td>2010.0</td>\n",
              "      <td>Puzzle</td>\n",
              "      <td>7G//AMES</td>\n",
              "      <td>0.00</td>\n",
              "      <td>0.01</td>\n",
              "      <td>0.00</td>\n",
              "      <td>0.00</td>\n",
              "      <td>0.01</td>\n",
              "    </tr>\n",
              "    <tr>\n",
              "      <th>16600</th>\n",
              "      <td>Spirits &amp; Spells</td>\n",
              "      <td>GBA</td>\n",
              "      <td>2003.0</td>\n",
              "      <td>Platform</td>\n",
              "      <td>Wanadoo</td>\n",
              "      <td>0.01</td>\n",
              "      <td>0.00</td>\n",
              "      <td>0.00</td>\n",
              "      <td>0.00</td>\n",
              "      <td>0.01</td>\n",
              "    </tr>\n",
              "  </tbody>\n",
              "</table>\n",
              "<p>16598 rows × 10 columns</p>\n",
              "</div>"
            ],
            "text/plain": [
              "                                                   Name Platform    Year  \\\n",
              "Rank                                                                       \n",
              "1                                            Wii Sports      Wii  2006.0   \n",
              "2                                     Super Mario Bros.      NES  1985.0   \n",
              "3                                        Mario Kart Wii      Wii  2008.0   \n",
              "4                                     Wii Sports Resort      Wii  2009.0   \n",
              "5                              Pokemon Red/Pokemon Blue       GB  1996.0   \n",
              "...                                                 ...      ...     ...   \n",
              "16596                Woody Woodpecker in Crazy Castle 5      GBA  2002.0   \n",
              "16597                     Men in Black II: Alien Escape       GC  2003.0   \n",
              "16598  SCORE International Baja 1000: The Official Game      PS2  2008.0   \n",
              "16599                                        Know How 2       DS  2010.0   \n",
              "16600                                  Spirits & Spells      GBA  2003.0   \n",
              "\n",
              "              Genre   Publisher  NA_Sales  EU_Sales  JP_Sales  Other_Sales  \\\n",
              "Rank                                                                         \n",
              "1            Sports    Nintendo     41.49     29.02      3.77         8.46   \n",
              "2          Platform    Nintendo     29.08      3.58      6.81         0.77   \n",
              "3            Racing    Nintendo     15.85     12.88      3.79         3.31   \n",
              "4            Sports    Nintendo     15.75     11.01      3.28         2.96   \n",
              "5      Role-Playing    Nintendo     11.27      8.89     10.22         1.00   \n",
              "...             ...         ...       ...       ...       ...          ...   \n",
              "16596      Platform       Kemco      0.01      0.00      0.00         0.00   \n",
              "16597       Shooter  Infogrames      0.01      0.00      0.00         0.00   \n",
              "16598        Racing  Activision      0.00      0.00      0.00         0.00   \n",
              "16599        Puzzle    7G//AMES      0.00      0.01      0.00         0.00   \n",
              "16600      Platform     Wanadoo      0.01      0.00      0.00         0.00   \n",
              "\n",
              "       Global_Sales  \n",
              "Rank                 \n",
              "1             82.74  \n",
              "2             40.24  \n",
              "3             35.82  \n",
              "4             33.00  \n",
              "5             31.37  \n",
              "...             ...  \n",
              "16596          0.01  \n",
              "16597          0.01  \n",
              "16598          0.01  \n",
              "16599          0.01  \n",
              "16600          0.01  \n",
              "\n",
              "[16598 rows x 10 columns]"
            ]
          },
          "execution_count": 3,
          "metadata": {},
          "output_type": "execute_result"
        }
      ],
      "source": [
        "import pandas as pd\n",
        "\n",
        "data = pd.read_csv('https://raw.githubusercontent.com/TirendazAcademy/PANDAS-TUTORIAL/main/DataSets/vgsalesGlobale.csv')\n",
        "df = pd.DataFrame(data).set_index('Rank')"
      ]
    },
    {
      "cell_type": "code",
      "execution_count": 5,
      "metadata": {},
      "outputs": [
        {
          "data": {
            "text/plain": [
              "8920.44"
            ]
          },
          "execution_count": 5,
          "metadata": {},
          "output_type": "execute_result"
        }
      ],
      "source": [
        "df['Global_Sales'].sum()"
      ]
    },
    {
      "cell_type": "code",
      "execution_count": 9,
      "metadata": {},
      "outputs": [
        {
          "name": "stderr",
          "output_type": "stream",
          "text": [
            "C:\\Users\\user\\AppData\\Local\\Temp\\ipykernel_14524\\1699019907.py:1: FutureWarning: Series.__getitem__ treating keys as positions is deprecated. In a future version, integer keys will always be treated as labels (consistent with DataFrame behavior). To access a value by position, use `ser.iloc[pos]`\n",
            "  df.iloc[df['Global_Sales'].argmax()][0]\n"
          ]
        },
        {
          "data": {
            "text/plain": [
              "'Wii Sports'"
            ]
          },
          "execution_count": 9,
          "metadata": {},
          "output_type": "execute_result"
        }
      ],
      "source": [
        "df.iloc[df['Global_Sales'].argmax()][0]"
      ]
    },
    {
      "cell_type": "code",
      "execution_count": 12,
      "metadata": {},
      "outputs": [
        {
          "data": {
            "text/plain": [
              "NA_Sales    0.264667\n",
              "EU_Sales    0.146652\n",
              "JP_Sales    0.077782\n",
              "dtype: float64"
            ]
          },
          "execution_count": 12,
          "metadata": {},
          "output_type": "execute_result"
        }
      ],
      "source": [
        "df[['NA_Sales', 'EU_Sales', 'JP_Sales']].mean()"
      ]
    },
    {
      "cell_type": "code",
      "execution_count": 18,
      "metadata": {},
      "outputs": [
        {
          "data": {
            "text/plain": [
              "Rank\n",
              "1          Sports\n",
              "2        Platform\n",
              "3          Racing\n",
              "4          Sports\n",
              "5    Role-Playing\n",
              "Name: Genre, dtype: object"
            ]
          },
          "execution_count": 18,
          "metadata": {},
          "output_type": "execute_result"
        }
      ],
      "source": [
        "df2 = df.sort_values(ascending=False, by='Global_Sales')\n",
        "df2['Genre'].head(5)"
      ]
    },
    {
      "cell_type": "code",
      "execution_count": 31,
      "metadata": {},
      "outputs": [
        {
          "data": {
            "text/html": [
              "<div>\n",
              "<style scoped>\n",
              "    .dataframe tbody tr th:only-of-type {\n",
              "        vertical-align: middle;\n",
              "    }\n",
              "\n",
              "    .dataframe tbody tr th {\n",
              "        vertical-align: top;\n",
              "    }\n",
              "\n",
              "    .dataframe thead th {\n",
              "        text-align: right;\n",
              "    }\n",
              "</style>\n",
              "<table border=\"1\" class=\"dataframe\">\n",
              "  <thead>\n",
              "    <tr style=\"text-align: right;\">\n",
              "      <th></th>\n",
              "      <th>NA_Sales</th>\n",
              "      <th>EU_Sales</th>\n",
              "      <th>JP_Sales</th>\n",
              "    </tr>\n",
              "    <tr>\n",
              "      <th>Genre</th>\n",
              "      <th></th>\n",
              "      <th></th>\n",
              "      <th></th>\n",
              "    </tr>\n",
              "  </thead>\n",
              "  <tbody>\n",
              "    <tr>\n",
              "      <th>Action</th>\n",
              "      <td>877.83</td>\n",
              "      <td>525.00</td>\n",
              "      <td>159.95</td>\n",
              "    </tr>\n",
              "    <tr>\n",
              "      <th>Adventure</th>\n",
              "      <td>105.80</td>\n",
              "      <td>64.13</td>\n",
              "      <td>52.07</td>\n",
              "    </tr>\n",
              "    <tr>\n",
              "      <th>Fighting</th>\n",
              "      <td>223.59</td>\n",
              "      <td>101.32</td>\n",
              "      <td>87.35</td>\n",
              "    </tr>\n",
              "    <tr>\n",
              "      <th>Misc</th>\n",
              "      <td>410.24</td>\n",
              "      <td>215.98</td>\n",
              "      <td>107.76</td>\n",
              "    </tr>\n",
              "    <tr>\n",
              "      <th>Platform</th>\n",
              "      <td>447.05</td>\n",
              "      <td>201.63</td>\n",
              "      <td>130.77</td>\n",
              "    </tr>\n",
              "    <tr>\n",
              "      <th>Puzzle</th>\n",
              "      <td>123.78</td>\n",
              "      <td>50.78</td>\n",
              "      <td>57.31</td>\n",
              "    </tr>\n",
              "    <tr>\n",
              "      <th>Racing</th>\n",
              "      <td>359.42</td>\n",
              "      <td>238.39</td>\n",
              "      <td>56.69</td>\n",
              "    </tr>\n",
              "    <tr>\n",
              "      <th>Role-Playing</th>\n",
              "      <td>327.28</td>\n",
              "      <td>188.06</td>\n",
              "      <td>352.31</td>\n",
              "    </tr>\n",
              "    <tr>\n",
              "      <th>Shooter</th>\n",
              "      <td>582.60</td>\n",
              "      <td>313.27</td>\n",
              "      <td>38.28</td>\n",
              "    </tr>\n",
              "    <tr>\n",
              "      <th>Simulation</th>\n",
              "      <td>183.31</td>\n",
              "      <td>113.38</td>\n",
              "      <td>63.70</td>\n",
              "    </tr>\n",
              "    <tr>\n",
              "      <th>Sports</th>\n",
              "      <td>683.35</td>\n",
              "      <td>376.85</td>\n",
              "      <td>135.37</td>\n",
              "    </tr>\n",
              "    <tr>\n",
              "      <th>Strategy</th>\n",
              "      <td>68.70</td>\n",
              "      <td>45.34</td>\n",
              "      <td>49.46</td>\n",
              "    </tr>\n",
              "  </tbody>\n",
              "</table>\n",
              "</div>"
            ],
            "text/plain": [
              "              NA_Sales  EU_Sales  JP_Sales\n",
              "Genre                                     \n",
              "Action          877.83    525.00    159.95\n",
              "Adventure       105.80     64.13     52.07\n",
              "Fighting        223.59    101.32     87.35\n",
              "Misc            410.24    215.98    107.76\n",
              "Platform        447.05    201.63    130.77\n",
              "Puzzle          123.78     50.78     57.31\n",
              "Racing          359.42    238.39     56.69\n",
              "Role-Playing    327.28    188.06    352.31\n",
              "Shooter         582.60    313.27     38.28\n",
              "Simulation      183.31    113.38     63.70\n",
              "Sports          683.35    376.85    135.37\n",
              "Strategy         68.70     45.34     49.46"
            ]
          },
          "execution_count": 31,
          "metadata": {},
          "output_type": "execute_result"
        }
      ],
      "source": [
        "genre = df.groupby('Genre')\n",
        "genre[['NA_Sales', 'EU_Sales', 'JP_Sales']].sum()"
      ]
    },
    {
      "cell_type": "code",
      "execution_count": 23,
      "metadata": {},
      "outputs": [
        {
          "name": "stderr",
          "output_type": "stream",
          "text": [
            "C:\\Users\\user\\AppData\\Local\\Temp\\ipykernel_14524\\3655348471.py:1: FutureWarning: Series.__getitem__ treating keys as positions is deprecated. In a future version, integer keys will always be treated as labels (consistent with DataFrame behavior). To access a value by position, use `ser.iloc[pos]`\n",
            "  df.iloc[df['NA_Sales'].argmax()][3]\n"
          ]
        },
        {
          "data": {
            "text/plain": [
              "'Sports'"
            ]
          },
          "execution_count": 23,
          "metadata": {},
          "output_type": "execute_result"
        }
      ],
      "source": [
        "df.iloc[df['NA_Sales'].argmax()][3]"
      ]
    },
    {
      "cell_type": "code",
      "execution_count": 25,
      "metadata": {},
      "outputs": [
        {
          "data": {
            "text/html": [
              "<div>\n",
              "<style scoped>\n",
              "    .dataframe tbody tr th:only-of-type {\n",
              "        vertical-align: middle;\n",
              "    }\n",
              "\n",
              "    .dataframe tbody tr th {\n",
              "        vertical-align: top;\n",
              "    }\n",
              "\n",
              "    .dataframe thead th {\n",
              "        text-align: right;\n",
              "    }\n",
              "</style>\n",
              "<table border=\"1\" class=\"dataframe\">\n",
              "  <thead>\n",
              "    <tr style=\"text-align: right;\">\n",
              "      <th></th>\n",
              "      <th>Name</th>\n",
              "      <th>Platform</th>\n",
              "      <th>Year</th>\n",
              "      <th>Genre</th>\n",
              "      <th>Publisher</th>\n",
              "      <th>NA_Sales</th>\n",
              "      <th>EU_Sales</th>\n",
              "      <th>JP_Sales</th>\n",
              "      <th>Other_Sales</th>\n",
              "      <th>Global_Sales</th>\n",
              "    </tr>\n",
              "    <tr>\n",
              "      <th>Rank</th>\n",
              "      <th></th>\n",
              "      <th></th>\n",
              "      <th></th>\n",
              "      <th></th>\n",
              "      <th></th>\n",
              "      <th></th>\n",
              "      <th></th>\n",
              "      <th></th>\n",
              "      <th></th>\n",
              "      <th></th>\n",
              "    </tr>\n",
              "  </thead>\n",
              "  <tbody>\n",
              "    <tr>\n",
              "      <th>16591</th>\n",
              "      <td>Mega Brain Boost</td>\n",
              "      <td>DS</td>\n",
              "      <td>2008.0</td>\n",
              "      <td>Puzzle</td>\n",
              "      <td>Majesco Entertainment</td>\n",
              "      <td>0.01</td>\n",
              "      <td>0.00</td>\n",
              "      <td>0.00</td>\n",
              "      <td>0.0</td>\n",
              "      <td>0.01</td>\n",
              "    </tr>\n",
              "    <tr>\n",
              "      <th>16592</th>\n",
              "      <td>Chou Ezaru wa Akai Hana: Koi wa Tsuki ni Shiru...</td>\n",
              "      <td>PSV</td>\n",
              "      <td>2016.0</td>\n",
              "      <td>Action</td>\n",
              "      <td>dramatic create</td>\n",
              "      <td>0.00</td>\n",
              "      <td>0.00</td>\n",
              "      <td>0.01</td>\n",
              "      <td>0.0</td>\n",
              "      <td>0.01</td>\n",
              "    </tr>\n",
              "    <tr>\n",
              "      <th>16593</th>\n",
              "      <td>Eiyuu Densetsu: Sora no Kiseki Material Collec...</td>\n",
              "      <td>PSP</td>\n",
              "      <td>2007.0</td>\n",
              "      <td>Role-Playing</td>\n",
              "      <td>Falcom Corporation</td>\n",
              "      <td>0.00</td>\n",
              "      <td>0.00</td>\n",
              "      <td>0.01</td>\n",
              "      <td>0.0</td>\n",
              "      <td>0.01</td>\n",
              "    </tr>\n",
              "    <tr>\n",
              "      <th>16594</th>\n",
              "      <td>Myst IV: Revelation</td>\n",
              "      <td>PC</td>\n",
              "      <td>2004.0</td>\n",
              "      <td>Adventure</td>\n",
              "      <td>Ubisoft</td>\n",
              "      <td>0.01</td>\n",
              "      <td>0.00</td>\n",
              "      <td>0.00</td>\n",
              "      <td>0.0</td>\n",
              "      <td>0.01</td>\n",
              "    </tr>\n",
              "    <tr>\n",
              "      <th>16595</th>\n",
              "      <td>Plushees</td>\n",
              "      <td>DS</td>\n",
              "      <td>2008.0</td>\n",
              "      <td>Simulation</td>\n",
              "      <td>Destineer</td>\n",
              "      <td>0.01</td>\n",
              "      <td>0.00</td>\n",
              "      <td>0.00</td>\n",
              "      <td>0.0</td>\n",
              "      <td>0.01</td>\n",
              "    </tr>\n",
              "    <tr>\n",
              "      <th>16596</th>\n",
              "      <td>Woody Woodpecker in Crazy Castle 5</td>\n",
              "      <td>GBA</td>\n",
              "      <td>2002.0</td>\n",
              "      <td>Platform</td>\n",
              "      <td>Kemco</td>\n",
              "      <td>0.01</td>\n",
              "      <td>0.00</td>\n",
              "      <td>0.00</td>\n",
              "      <td>0.0</td>\n",
              "      <td>0.01</td>\n",
              "    </tr>\n",
              "    <tr>\n",
              "      <th>16597</th>\n",
              "      <td>Men in Black II: Alien Escape</td>\n",
              "      <td>GC</td>\n",
              "      <td>2003.0</td>\n",
              "      <td>Shooter</td>\n",
              "      <td>Infogrames</td>\n",
              "      <td>0.01</td>\n",
              "      <td>0.00</td>\n",
              "      <td>0.00</td>\n",
              "      <td>0.0</td>\n",
              "      <td>0.01</td>\n",
              "    </tr>\n",
              "    <tr>\n",
              "      <th>16598</th>\n",
              "      <td>SCORE International Baja 1000: The Official Game</td>\n",
              "      <td>PS2</td>\n",
              "      <td>2008.0</td>\n",
              "      <td>Racing</td>\n",
              "      <td>Activision</td>\n",
              "      <td>0.00</td>\n",
              "      <td>0.00</td>\n",
              "      <td>0.00</td>\n",
              "      <td>0.0</td>\n",
              "      <td>0.01</td>\n",
              "    </tr>\n",
              "    <tr>\n",
              "      <th>16599</th>\n",
              "      <td>Know How 2</td>\n",
              "      <td>DS</td>\n",
              "      <td>2010.0</td>\n",
              "      <td>Puzzle</td>\n",
              "      <td>7G//AMES</td>\n",
              "      <td>0.00</td>\n",
              "      <td>0.01</td>\n",
              "      <td>0.00</td>\n",
              "      <td>0.0</td>\n",
              "      <td>0.01</td>\n",
              "    </tr>\n",
              "    <tr>\n",
              "      <th>16600</th>\n",
              "      <td>Spirits &amp; Spells</td>\n",
              "      <td>GBA</td>\n",
              "      <td>2003.0</td>\n",
              "      <td>Platform</td>\n",
              "      <td>Wanadoo</td>\n",
              "      <td>0.01</td>\n",
              "      <td>0.00</td>\n",
              "      <td>0.00</td>\n",
              "      <td>0.0</td>\n",
              "      <td>0.01</td>\n",
              "    </tr>\n",
              "  </tbody>\n",
              "</table>\n",
              "</div>"
            ],
            "text/plain": [
              "                                                    Name Platform    Year  \\\n",
              "Rank                                                                        \n",
              "16591                                   Mega Brain Boost       DS  2008.0   \n",
              "16592  Chou Ezaru wa Akai Hana: Koi wa Tsuki ni Shiru...      PSV  2016.0   \n",
              "16593  Eiyuu Densetsu: Sora no Kiseki Material Collec...      PSP  2007.0   \n",
              "16594                                Myst IV: Revelation       PC  2004.0   \n",
              "16595                                           Plushees       DS  2008.0   \n",
              "16596                 Woody Woodpecker in Crazy Castle 5      GBA  2002.0   \n",
              "16597                      Men in Black II: Alien Escape       GC  2003.0   \n",
              "16598   SCORE International Baja 1000: The Official Game      PS2  2008.0   \n",
              "16599                                         Know How 2       DS  2010.0   \n",
              "16600                                   Spirits & Spells      GBA  2003.0   \n",
              "\n",
              "              Genre              Publisher  NA_Sales  EU_Sales  JP_Sales  \\\n",
              "Rank                                                                       \n",
              "16591        Puzzle  Majesco Entertainment      0.01      0.00      0.00   \n",
              "16592        Action        dramatic create      0.00      0.00      0.01   \n",
              "16593  Role-Playing     Falcom Corporation      0.00      0.00      0.01   \n",
              "16594     Adventure                Ubisoft      0.01      0.00      0.00   \n",
              "16595    Simulation              Destineer      0.01      0.00      0.00   \n",
              "16596      Platform                  Kemco      0.01      0.00      0.00   \n",
              "16597       Shooter             Infogrames      0.01      0.00      0.00   \n",
              "16598        Racing             Activision      0.00      0.00      0.00   \n",
              "16599        Puzzle               7G//AMES      0.00      0.01      0.00   \n",
              "16600      Platform                Wanadoo      0.01      0.00      0.00   \n",
              "\n",
              "       Other_Sales  Global_Sales  \n",
              "Rank                              \n",
              "16591          0.0          0.01  \n",
              "16592          0.0          0.01  \n",
              "16593          0.0          0.01  \n",
              "16594          0.0          0.01  \n",
              "16595          0.0          0.01  \n",
              "16596          0.0          0.01  \n",
              "16597          0.0          0.01  \n",
              "16598          0.0          0.01  \n",
              "16599          0.0          0.01  \n",
              "16600          0.0          0.01  "
            ]
          },
          "execution_count": 25,
          "metadata": {},
          "output_type": "execute_result"
        }
      ],
      "source": [
        "df.tail(10)"
      ]
    },
    {
      "cell_type": "code",
      "execution_count": 32,
      "metadata": {},
      "outputs": [
        {
          "data": {
            "text/plain": [
              "Platform\n",
              "PS2     1255.64\n",
              "X360     979.96\n",
              "PS3      957.84\n",
              "Name: Global_Sales, dtype: float64"
            ]
          },
          "execution_count": 32,
          "metadata": {},
          "output_type": "execute_result"
        }
      ],
      "source": [
        "df.groupby('Platform')['Global_Sales'].sum().sort_values(ascending=False).head(3)\n"
      ]
    },
    {
      "cell_type": "code",
      "execution_count": null,
      "metadata": {},
      "outputs": [],
      "source": []
    },
    {
      "cell_type": "code",
      "execution_count": 35,
      "metadata": {},
      "outputs": [
        {
          "data": {
            "text/plain": [
              "0.767726748370264"
            ]
          },
          "execution_count": 35,
          "metadata": {},
          "output_type": "execute_result"
        }
      ],
      "source": [
        "df['NA_Sales'].corr(df['EU_Sales'])"
      ]
    },
    {
      "cell_type": "code",
      "execution_count": null,
      "metadata": {},
      "outputs": [],
      "source": []
    }
  ],
  "metadata": {
    "colab": {
      "provenance": []
    },
    "kernelspec": {
      "display_name": "Python 3",
      "name": "python3"
    },
    "language_info": {
      "codemirror_mode": {
        "name": "ipython",
        "version": 3
      },
      "file_extension": ".py",
      "mimetype": "text/x-python",
      "name": "python",
      "nbconvert_exporter": "python",
      "pygments_lexer": "ipython3",
      "version": "3.11.4"
    }
  },
  "nbformat": 4,
  "nbformat_minor": 0
}
